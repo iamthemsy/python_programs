{
 "cells": [
  {
   "cell_type": "markdown",
   "id": "6ba247c2-e026-4f2e-9d49-deb905bbf9b6",
   "metadata": {},
   "source": [
    "### Write a Python program to find the largest element in a list"
   ]
  },
  {
   "cell_type": "code",
   "execution_count": 17,
   "id": "f8036343-caab-4f03-958a-ccf9cf78b998",
   "metadata": {},
   "outputs": [
    {
     "name": "stdout",
     "output_type": "stream",
     "text": [
      "230\n"
     ]
    }
   ],
   "source": [
    "li = [100,230,50,14,9,32,45]\n",
    "\n",
    "largest = 0\n",
    "\n",
    "for nums in li:\n",
    "    if nums > largest:\n",
    "        largest = nums\n",
    "        \n",
    "print(largest)\n"
   ]
  },
  {
   "cell_type": "code",
   "execution_count": null,
   "id": "5a43fb1d-cab4-4748-8720-13ee4ae6b42b",
   "metadata": {},
   "outputs": [],
   "source": []
  },
  {
   "cell_type": "code",
   "execution_count": null,
   "id": "ca4bbf83-e0bc-4cdf-a511-43f13501a98a",
   "metadata": {},
   "outputs": [],
   "source": []
  }
 ],
 "metadata": {
  "kernelspec": {
   "display_name": "Python 3 (ipykernel)",
   "language": "python",
   "name": "python3"
  },
  "language_info": {
   "codemirror_mode": {
    "name": "ipython",
    "version": 3
   },
   "file_extension": ".py",
   "mimetype": "text/x-python",
   "name": "python",
   "nbconvert_exporter": "python",
   "pygments_lexer": "ipython3",
   "version": "3.11.7"
  }
 },
 "nbformat": 4,
 "nbformat_minor": 5
}
